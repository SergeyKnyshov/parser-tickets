{
 "cells": [
  {
   "cell_type": "code",
   "execution_count": 7,
   "metadata": {},
   "outputs": [],
   "source": [
    "from parser.pars_controller import ParserController"
   ]
  },
  {
   "cell_type": "code",
   "execution_count": 8,
   "metadata": {},
   "outputs": [],
   "source": [
    "pars = ParserController('Челябинск', 'Москва', '16.06')"
   ]
  },
  {
   "cell_type": "code",
   "execution_count": 9,
   "metadata": {},
   "outputs": [
    {
     "name": "stderr",
     "output_type": "stream",
     "text": [
      "100%|██████████| 10/10 [00:00<00:00, 166.72it/s]\n"
     ]
    },
    {
     "ename": "AttributeError",
     "evalue": "module 'datetime' has no attribute 'now'",
     "output_type": "error",
     "traceback": [
      "\u001b[1;31m---------------------------------------------------------------------------\u001b[0m",
      "\u001b[1;31mAttributeError\u001b[0m                            Traceback (most recent call last)",
      "Cell \u001b[1;32mIn[9], line 1\u001b[0m\n\u001b[1;32m----> 1\u001b[0m tick \u001b[39m=\u001b[39m pars\u001b[39m.\u001b[39;49mget_tickets()\n",
      "File \u001b[1;32mc:\\Users\\Sergey\\Documents\\GitHub\\parser-tickets\\parser\\pars_controller.py:17\u001b[0m, in \u001b[0;36mParserController.get_tickets\u001b[1;34m(self)\u001b[0m\n\u001b[0;32m     15\u001b[0m \u001b[39mdef\u001b[39;00m \u001b[39mget_tickets\u001b[39m(\u001b[39mself\u001b[39m):\n\u001b[0;32m     16\u001b[0m     crawl_web1 \u001b[39m=\u001b[39m \u001b[39mself\u001b[39m\u001b[39m.\u001b[39m__get_avia_tickets()\n\u001b[1;32m---> 17\u001b[0m     crawl_web2 \u001b[39m=\u001b[39m \u001b[39mself\u001b[39;49m\u001b[39m.\u001b[39;49m__get_rail_tickets()\n\u001b[0;32m     19\u001b[0m     lst_of_tickets \u001b[39m=\u001b[39m []\n\u001b[0;32m     20\u001b[0m     lst_of_tickets\u001b[39m.\u001b[39mextend(crawl_web1)\n",
      "File \u001b[1;32mc:\\Users\\Sergey\\Documents\\GitHub\\parser-tickets\\parser\\pars_controller.py:35\u001b[0m, in \u001b[0;36mParserController.__get_rail_tickets\u001b[1;34m(self)\u001b[0m\n\u001b[0;32m     33\u001b[0m \u001b[39mdef\u001b[39;00m \u001b[39m__get_rail_tickets\u001b[39m(\u001b[39mself\u001b[39m):\n\u001b[0;32m     34\u001b[0m     crawl \u001b[39m=\u001b[39m CrawlerRailway(\u001b[39mself\u001b[39m\u001b[39m.\u001b[39morigin, \u001b[39mself\u001b[39m\u001b[39m.\u001b[39mdestination, \u001b[39mself\u001b[39m\u001b[39m.\u001b[39mdate)\n\u001b[1;32m---> 35\u001b[0m     crawl_web \u001b[39m=\u001b[39m crawl\u001b[39m.\u001b[39;49mget_html()\n\u001b[0;32m     37\u001b[0m     pars \u001b[39m=\u001b[39m ParserRailway(crawl_web)\n\u001b[0;32m     38\u001b[0m     \u001b[39mreturn\u001b[39;00m pars\u001b[39m.\u001b[39mget_tickets()\n",
      "File \u001b[1;32mc:\\Users\\Sergey\\Documents\\GitHub\\parser-tickets\\crawler\\crawl_railway.py:16\u001b[0m, in \u001b[0;36mCrawlerRailway.get_html\u001b[1;34m(self)\u001b[0m\n\u001b[0;32m     14\u001b[0m dep_city \u001b[39m=\u001b[39m translit(\u001b[39mself\u001b[39m\u001b[39m.\u001b[39mdeparture_city\u001b[39m.\u001b[39mlower(), \u001b[39m'\u001b[39m\u001b[39mru\u001b[39m\u001b[39m'\u001b[39m, \u001b[39mreversed\u001b[39m\u001b[39m=\u001b[39m\u001b[39mTrue\u001b[39;00m)\n\u001b[0;32m     15\u001b[0m dest_city \u001b[39m=\u001b[39m translit(\u001b[39mself\u001b[39m\u001b[39m.\u001b[39mdestination_city\u001b[39m.\u001b[39mlower(), \u001b[39m'\u001b[39m\u001b[39mru\u001b[39m\u001b[39m'\u001b[39m, \u001b[39mreversed\u001b[39m\u001b[39m=\u001b[39m\u001b[39mTrue\u001b[39;00m) \n\u001b[1;32m---> 16\u001b[0m date \u001b[39m=\u001b[39m \u001b[39mself\u001b[39m\u001b[39m.\u001b[39mdate \u001b[39m+\u001b[39m \u001b[39m'\u001b[39m\u001b[39m.\u001b[39m\u001b[39m'\u001b[39m \u001b[39m+\u001b[39m datetime\u001b[39m.\u001b[39;49mnow()\u001b[39m.\u001b[39myear\n\u001b[0;32m     18\u001b[0m chrome_options \u001b[39m=\u001b[39m Options()\n\u001b[0;32m     19\u001b[0m \u001b[39m#chrome_options.add_experimental_option(\"detach\", True)\u001b[39;00m\n",
      "\u001b[1;31mAttributeError\u001b[0m: module 'datetime' has no attribute 'now'"
     ]
    }
   ],
   "source": [
    "tick = pars.get_tickets()"
   ]
  },
  {
   "cell_type": "code",
   "execution_count": null,
   "metadata": {},
   "outputs": [],
   "source": []
  }
 ],
 "metadata": {
  "kernelspec": {
   "display_name": ".venv",
   "language": "python",
   "name": "python3"
  },
  "language_info": {
   "codemirror_mode": {
    "name": "ipython",
    "version": 3
   },
   "file_extension": ".py",
   "mimetype": "text/x-python",
   "name": "python",
   "nbconvert_exporter": "python",
   "pygments_lexer": "ipython3",
   "version": "3.10.5"
  },
  "orig_nbformat": 4
 },
 "nbformat": 4,
 "nbformat_minor": 2
}
