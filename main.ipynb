{
 "cells": [
  {
   "cell_type": "code",
   "execution_count": 1,
   "metadata": {},
   "outputs": [],
   "source": [
    "from parser.pars_controller import ParserController"
   ]
  },
  {
   "cell_type": "code",
   "execution_count": 2,
   "metadata": {},
   "outputs": [],
   "source": [
    "pars = ParserController('Челябинск', 'Уфа', '16.06')"
   ]
  },
  {
   "cell_type": "code",
   "execution_count": 3,
   "metadata": {},
   "outputs": [
    {
     "name": "stderr",
     "output_type": "stream",
     "text": [
      "100%|██████████| 10/10 [00:00<00:00, 107.74it/s]\n"
     ]
    },
    {
     "ename": "TimeoutException",
     "evalue": "Message: \nStacktrace:\nBacktrace:\n\tGetHandleVerifier [0x0111A813+48355]\n\t(No symbol) [0x010AC4B1]\n\t(No symbol) [0x00FB5358]\n\t(No symbol) [0x00FE09A5]\n\t(No symbol) [0x00FE0B3B]\n\t(No symbol) [0x0100E232]\n\t(No symbol) [0x00FFA784]\n\t(No symbol) [0x0100C922]\n\t(No symbol) [0x00FFA536]\n\t(No symbol) [0x00FD82DC]\n\t(No symbol) [0x00FD93DD]\n\tGetHandleVerifier [0x0137AABD+2539405]\n\tGetHandleVerifier [0x013BA78F+2800735]\n\tGetHandleVerifier [0x013B456C+2775612]\n\tGetHandleVerifier [0x011A51E0+616112]\n\t(No symbol) [0x010B5F8C]\n\t(No symbol) [0x010B2328]\n\t(No symbol) [0x010B240B]\n\t(No symbol) [0x010A4FF7]\n\tBaseThreadInitThunk [0x770800C9+25]\n\tRtlGetAppContainerNamedObjectPath [0x77DA7B4E+286]\n\tRtlGetAppContainerNamedObjectPath [0x77DA7B1E+238]\n",
     "output_type": "error",
     "traceback": [
      "\u001b[1;31m---------------------------------------------------------------------------\u001b[0m",
      "\u001b[1;31mTimeoutException\u001b[0m                          Traceback (most recent call last)",
      "Cell \u001b[1;32mIn[3], line 1\u001b[0m\n\u001b[1;32m----> 1\u001b[0m tick \u001b[39m=\u001b[39m pars\u001b[39m.\u001b[39;49mget_tickets_from_web()\n",
      "File \u001b[1;32mc:\\Users\\Sergey\\Documents\\GitHub\\parser-tickets\\parser\\pars_controller.py:20\u001b[0m, in \u001b[0;36mParserController.get_tickets_from_web\u001b[1;34m(self)\u001b[0m\n\u001b[0;32m     18\u001b[0m \u001b[39mif\u001b[39;00m \u001b[39mnot\u001b[39;00m \u001b[39mself\u001b[39m\u001b[39m.\u001b[39mdb\u001b[39m.\u001b[39mcheck_exist_trip_by_route(\u001b[39mself\u001b[39m\u001b[39m.\u001b[39morigin, \u001b[39mself\u001b[39m\u001b[39m.\u001b[39mdestination):\n\u001b[0;32m     19\u001b[0m     crawl_web1 \u001b[39m=\u001b[39m \u001b[39mself\u001b[39m\u001b[39m.\u001b[39m__get_avia_tickets_from_web()\n\u001b[1;32m---> 20\u001b[0m     crawl_web2 \u001b[39m=\u001b[39m \u001b[39mself\u001b[39;49m\u001b[39m.\u001b[39;49m__get_rail_tickets_from_web()\n\u001b[0;32m     22\u001b[0m     tickets_lst \u001b[39m=\u001b[39m []\n\u001b[0;32m     23\u001b[0m     tickets_lst\u001b[39m.\u001b[39mextend(crawl_web1)\n",
      "File \u001b[1;32mc:\\Users\\Sergey\\Documents\\GitHub\\parser-tickets\\parser\\pars_controller.py:42\u001b[0m, in \u001b[0;36mParserController.__get_rail_tickets_from_web\u001b[1;34m(self)\u001b[0m\n\u001b[0;32m     40\u001b[0m \u001b[39mdef\u001b[39;00m \u001b[39m__get_rail_tickets_from_web\u001b[39m(\u001b[39mself\u001b[39m):\n\u001b[0;32m     41\u001b[0m     crawl \u001b[39m=\u001b[39m CrawlerRailway(\u001b[39mself\u001b[39m\u001b[39m.\u001b[39morigin, \u001b[39mself\u001b[39m\u001b[39m.\u001b[39mdestination, \u001b[39mself\u001b[39m\u001b[39m.\u001b[39mdate)\n\u001b[1;32m---> 42\u001b[0m     crawl_web \u001b[39m=\u001b[39m crawl\u001b[39m.\u001b[39;49mget_html()\n\u001b[0;32m     44\u001b[0m     pars \u001b[39m=\u001b[39m ParserRailway(crawl_web)\n\u001b[0;32m     45\u001b[0m     \u001b[39mreturn\u001b[39;00m pars\u001b[39m.\u001b[39mget_tickets()\n",
      "File \u001b[1;32mc:\\Users\\Sergey\\Documents\\GitHub\\parser-tickets\\crawler\\crawl_railway.py:27\u001b[0m, in \u001b[0;36mCrawlerRailway.get_html\u001b[1;34m(self)\u001b[0m\n\u001b[0;32m     25\u001b[0m browser \u001b[39m=\u001b[39m webdriver\u001b[39m.\u001b[39mChrome(options\u001b[39m=\u001b[39mchrome_options)\n\u001b[0;32m     26\u001b[0m browser\u001b[39m.\u001b[39mget(train_url)\n\u001b[1;32m---> 27\u001b[0m WebDriverWait(browser, timeout \u001b[39m=\u001b[39;49m \u001b[39m30\u001b[39;49m)\u001b[39m.\u001b[39;49muntil(\u001b[39mlambda\u001b[39;49;00m d: d\u001b[39m.\u001b[39;49mfind_element(By\u001b[39m.\u001b[39;49mCLASS_NAME, \u001b[39m\"\u001b[39;49m\u001b[39mwg-train-options__wrap\u001b[39;49m\u001b[39m\"\u001b[39;49m))\n\u001b[0;32m     29\u001b[0m \u001b[39mreturn\u001b[39;00m BeautifulSoup(browser\u001b[39m.\u001b[39mpage_source, \u001b[39m'\u001b[39m\u001b[39mhtml.parser\u001b[39m\u001b[39m'\u001b[39m)\n",
      "File \u001b[1;32mc:\\Users\\Sergey\\Documents\\GitHub\\parser-tickets\\.venv\\lib\\site-packages\\selenium\\webdriver\\support\\wait.py:95\u001b[0m, in \u001b[0;36mWebDriverWait.until\u001b[1;34m(self, method, message)\u001b[0m\n\u001b[0;32m     93\u001b[0m     \u001b[39mif\u001b[39;00m time\u001b[39m.\u001b[39mmonotonic() \u001b[39m>\u001b[39m end_time:\n\u001b[0;32m     94\u001b[0m         \u001b[39mbreak\u001b[39;00m\n\u001b[1;32m---> 95\u001b[0m \u001b[39mraise\u001b[39;00m TimeoutException(message, screen, stacktrace)\n",
      "\u001b[1;31mTimeoutException\u001b[0m: Message: \nStacktrace:\nBacktrace:\n\tGetHandleVerifier [0x0111A813+48355]\n\t(No symbol) [0x010AC4B1]\n\t(No symbol) [0x00FB5358]\n\t(No symbol) [0x00FE09A5]\n\t(No symbol) [0x00FE0B3B]\n\t(No symbol) [0x0100E232]\n\t(No symbol) [0x00FFA784]\n\t(No symbol) [0x0100C922]\n\t(No symbol) [0x00FFA536]\n\t(No symbol) [0x00FD82DC]\n\t(No symbol) [0x00FD93DD]\n\tGetHandleVerifier [0x0137AABD+2539405]\n\tGetHandleVerifier [0x013BA78F+2800735]\n\tGetHandleVerifier [0x013B456C+2775612]\n\tGetHandleVerifier [0x011A51E0+616112]\n\t(No symbol) [0x010B5F8C]\n\t(No symbol) [0x010B2328]\n\t(No symbol) [0x010B240B]\n\t(No symbol) [0x010A4FF7]\n\tBaseThreadInitThunk [0x770800C9+25]\n\tRtlGetAppContainerNamedObjectPath [0x77DA7B4E+286]\n\tRtlGetAppContainerNamedObjectPath [0x77DA7B1E+238]\n"
     ]
    }
   ],
   "source": [
    "tick = pars.get_tickets_from_web()"
   ]
  },
  {
   "cell_type": "code",
   "execution_count": null,
   "metadata": {},
   "outputs": [
    {
     "name": "stdout",
     "output_type": "stream",
     "text": [
      "Рейс успешно добавлен в базу данных.\n",
      "Рейс успешно добавлен в базу данных.\n",
      "Рейс успешно добавлен в базу данных.\n",
      "Рейс успешно добавлен в базу данных.\n",
      "Рейс успешно добавлен в базу данных.\n",
      "Рейс успешно добавлен в базу данных.\n",
      "Такая запись уже существует!\n",
      "Рейс успешно добавлен в базу данных.\n",
      "Рейс успешно добавлен в базу данных.\n",
      "Рейс успешно добавлен в базу данных.\n",
      "Рейс успешно добавлен в базу данных.\n",
      "Рейс успешно добавлен в базу данных.\n",
      "Рейс успешно добавлен в базу данных.\n",
      "Рейс успешно добавлен в базу данных.\n",
      "Рейс успешно добавлен в базу данных.\n"
     ]
    },
    {
     "name": "stderr",
     "output_type": "stream",
     "text": [
      "  0%|          | 0/15 [00:00<?, ?it/s]"
     ]
    },
    {
     "name": "stdout",
     "output_type": "stream",
     "text": [
      "Такая запись уже существует!\n",
      "Такая запись уже существует!\n",
      "Такая запись уже существует!\n",
      "Такая запись уже существует!\n",
      "Такая запись уже существует!\n",
      "Такая запись уже существует!\n",
      "Такая запись уже существует!\n",
      "Такая запись уже существует!\n",
      "Такая запись уже существует!\n",
      "Такая запись уже существует!\n",
      "Такая запись уже существует!\n",
      "Такая запись уже существует!\n",
      "Такая запись уже существует!\n",
      "Такая запись уже существует!\n",
      "Такая запись уже существует!\n"
     ]
    },
    {
     "name": "stderr",
     "output_type": "stream",
     "text": [
      "100%|██████████| 15/15 [00:00<00:00, 291.96it/s]\n"
     ]
    }
   ],
   "source": [
    "pars.add_tickets_into_db(tick)"
   ]
  },
  {
   "cell_type": "code",
   "execution_count": null,
   "metadata": {},
   "outputs": [],
   "source": []
  }
 ],
 "metadata": {
  "kernelspec": {
   "display_name": ".venv",
   "language": "python",
   "name": "python3"
  },
  "language_info": {
   "codemirror_mode": {
    "name": "ipython",
    "version": 3
   },
   "file_extension": ".py",
   "mimetype": "text/x-python",
   "name": "python",
   "nbconvert_exporter": "python",
   "pygments_lexer": "ipython3",
   "version": "3.10.5"
  },
  "orig_nbformat": 4
 },
 "nbformat": 4,
 "nbformat_minor": 2
}
