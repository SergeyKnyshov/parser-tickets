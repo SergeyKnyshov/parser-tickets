{
 "cells": [
  {
   "cell_type": "code",
   "execution_count": 4,
   "metadata": {},
   "outputs": [],
   "source": [
    "from parser.pars_controller import ParserController"
   ]
  },
  {
   "cell_type": "code",
   "execution_count": 5,
   "metadata": {},
   "outputs": [],
   "source": [
    "pars = ParserController('Челябинск', 'Уфа', '16.06')"
   ]
  },
  {
   "cell_type": "code",
   "execution_count": 7,
   "metadata": {},
   "outputs": [
    {
     "name": "stderr",
     "output_type": "stream",
     "text": [
      "  0%|          | 0/10 [00:00<?, ?it/s]\n"
     ]
    },
    {
     "ename": "TypeError",
     "evalue": "unsupported operand type(s) for -: 'NoneType' and 'NoneType'",
     "output_type": "error",
     "traceback": [
      "\u001b[1;31m---------------------------------------------------------------------------\u001b[0m",
      "\u001b[1;31mTypeError\u001b[0m                                 Traceback (most recent call last)",
      "Cell \u001b[1;32mIn[7], line 1\u001b[0m\n\u001b[1;32m----> 1\u001b[0m tick \u001b[39m=\u001b[39m pars\u001b[39m.\u001b[39;49mget_tickets_from_web()\n",
      "File \u001b[1;32mc:\\Users\\Sergey\\Documents\\GitHub\\parser-tickets\\parser\\pars_controller.py:19\u001b[0m, in \u001b[0;36mParserController.get_tickets_from_web\u001b[1;34m(self)\u001b[0m\n\u001b[0;32m     16\u001b[0m \u001b[39mdef\u001b[39;00m \u001b[39mget_tickets_from_web\u001b[39m(\u001b[39mself\u001b[39m):\n\u001b[0;32m     18\u001b[0m     \u001b[39mif\u001b[39;00m \u001b[39mnot\u001b[39;00m \u001b[39mself\u001b[39m\u001b[39m.\u001b[39mdb\u001b[39m.\u001b[39mcheck_exist_trip_by_route(\u001b[39mself\u001b[39m\u001b[39m.\u001b[39morigin, \u001b[39mself\u001b[39m\u001b[39m.\u001b[39mdestination):\n\u001b[1;32m---> 19\u001b[0m         crawl_web1 \u001b[39m=\u001b[39m \u001b[39mself\u001b[39;49m\u001b[39m.\u001b[39;49m__get_avia_tickets_from_web()\n\u001b[0;32m     20\u001b[0m         crawl_web2 \u001b[39m=\u001b[39m \u001b[39mself\u001b[39m\u001b[39m.\u001b[39m__get_rail_tickets_from_web()\n\u001b[0;32m     22\u001b[0m         tickets_lst \u001b[39m=\u001b[39m []\n",
      "File \u001b[1;32mc:\\Users\\Sergey\\Documents\\GitHub\\parser-tickets\\parser\\pars_controller.py:38\u001b[0m, in \u001b[0;36mParserController.__get_avia_tickets_from_web\u001b[1;34m(self)\u001b[0m\n\u001b[0;32m     35\u001b[0m crawl_web \u001b[39m=\u001b[39m crawl\u001b[39m.\u001b[39mget_html()\n\u001b[0;32m     37\u001b[0m pars \u001b[39m=\u001b[39m ParserAviaSales(crawl_web)\n\u001b[1;32m---> 38\u001b[0m \u001b[39mreturn\u001b[39;00m pars\u001b[39m.\u001b[39;49mget_tickets()\n",
      "File \u001b[1;32mc:\\Users\\Sergey\\Documents\\GitHub\\parser-tickets\\parser\\pars_aviasales.py:13\u001b[0m, in \u001b[0;36mParserAviaSales.get_tickets\u001b[1;34m(self)\u001b[0m\n\u001b[0;32m     11\u001b[0m lst \u001b[39m=\u001b[39m []\n\u001b[0;32m     12\u001b[0m \u001b[39mfor\u001b[39;00m q \u001b[39min\u001b[39;00m tqdm(lst_of_ticket):\n\u001b[1;32m---> 13\u001b[0m     query \u001b[39m=\u001b[39m \u001b[39mself\u001b[39;49m\u001b[39m.\u001b[39;49mget_route(q)\n\u001b[0;32m     14\u001b[0m     \u001b[39mif\u001b[39;00m query[\u001b[39m\"\u001b[39m\u001b[39mcompany\u001b[39m\u001b[39m\"\u001b[39m] \u001b[39m!=\u001b[39m \u001b[39mNone\u001b[39;00m:\n\u001b[0;32m     15\u001b[0m         lst\u001b[39m.\u001b[39mappend(query)\n",
      "File \u001b[1;32mc:\\Users\\Sergey\\Documents\\GitHub\\parser-tickets\\parser\\pars_aviasales.py:73\u001b[0m, in \u001b[0;36mParserAviaSales.get_route\u001b[1;34m(self, html_of_ticket)\u001b[0m\n\u001b[0;32m     65\u001b[0m \u001b[39mdef\u001b[39;00m \u001b[39mget_route\u001b[39m(\u001b[39mself\u001b[39m, html_of_ticket):\n\u001b[0;32m     67\u001b[0m     flight_dict \u001b[39m=\u001b[39m {\u001b[39m'\u001b[39m\u001b[39morigin_city\u001b[39m\u001b[39m'\u001b[39m:\u001b[39mself\u001b[39m\u001b[39m.\u001b[39m__get_origin_city(html_of_ticket),\n\u001b[0;32m     68\u001b[0m             \u001b[39m'\u001b[39m\u001b[39mdestination_city\u001b[39m\u001b[39m'\u001b[39m:\u001b[39mself\u001b[39m\u001b[39m.\u001b[39m__get_destination_city(html_of_ticket),\n\u001b[0;32m     69\u001b[0m             \u001b[39m'\u001b[39m\u001b[39mprice\u001b[39m\u001b[39m'\u001b[39m:\u001b[39mself\u001b[39m\u001b[39m.\u001b[39m__get_price(html_of_ticket),\n\u001b[0;32m     70\u001b[0m             \u001b[39m'\u001b[39m\u001b[39mcompany\u001b[39m\u001b[39m'\u001b[39m:\u001b[39mself\u001b[39m\u001b[39m.\u001b[39m__get_airline(html_of_ticket),\n\u001b[0;32m     71\u001b[0m             \u001b[39m'\u001b[39m\u001b[39morigin_date\u001b[39m\u001b[39m'\u001b[39m:\u001b[39mself\u001b[39m\u001b[39m.\u001b[39m__get_origin_date(html_of_ticket),\n\u001b[0;32m     72\u001b[0m             \u001b[39m'\u001b[39m\u001b[39mdestination_date\u001b[39m\u001b[39m'\u001b[39m:\u001b[39mself\u001b[39m\u001b[39m.\u001b[39m__get_destination_date(html_of_ticket),\n\u001b[1;32m---> 73\u001b[0m             \u001b[39m'\u001b[39m\u001b[39mduration\u001b[39m\u001b[39m'\u001b[39m:\u001b[39mself\u001b[39;49m\u001b[39m.\u001b[39;49mget_duration(html_of_ticket),\n\u001b[0;32m     74\u001b[0m             \u001b[39m'\u001b[39m\u001b[39mtypes\u001b[39m\u001b[39m'\u001b[39m:\u001b[39m'\u001b[39m\u001b[39mPlane\u001b[39m\u001b[39m'\u001b[39m\n\u001b[0;32m     75\u001b[0m     }\n\u001b[0;32m     76\u001b[0m     \u001b[39mreturn\u001b[39;00m flight_dict\n",
      "File \u001b[1;32mc:\\Users\\Sergey\\Documents\\GitHub\\parser-tickets\\parser\\parent_pars.py:36\u001b[0m, in \u001b[0;36mParser.get_duration\u001b[1;34m(self, ticket)\u001b[0m\n\u001b[0;32m     34\u001b[0m date1 \u001b[39m=\u001b[39m \u001b[39mself\u001b[39m\u001b[39m.\u001b[39m__get_origin_date(ticket)\n\u001b[0;32m     35\u001b[0m date2 \u001b[39m=\u001b[39m \u001b[39mself\u001b[39m\u001b[39m.\u001b[39m__get_destination_date(ticket)\n\u001b[1;32m---> 36\u001b[0m \u001b[39mreturn\u001b[39;00m date2 \u001b[39m-\u001b[39;49m date1\n",
      "\u001b[1;31mTypeError\u001b[0m: unsupported operand type(s) for -: 'NoneType' and 'NoneType'"
     ]
    }
   ],
   "source": [
    "tick = pars.get_tickets_from_web()"
   ]
  },
  {
   "cell_type": "code",
   "execution_count": null,
   "metadata": {},
   "outputs": [
    {
     "name": "stdout",
     "output_type": "stream",
     "text": [
      "Рейс успешно добавлен в базу данных.\n",
      "Рейс успешно добавлен в базу данных.\n",
      "Рейс успешно добавлен в базу данных.\n",
      "Рейс успешно добавлен в базу данных.\n",
      "Рейс успешно добавлен в базу данных.\n",
      "Рейс успешно добавлен в базу данных.\n",
      "Такая запись уже существует!\n",
      "Рейс успешно добавлен в базу данных.\n",
      "Рейс успешно добавлен в базу данных.\n",
      "Рейс успешно добавлен в базу данных.\n",
      "Рейс успешно добавлен в базу данных.\n",
      "Рейс успешно добавлен в базу данных.\n",
      "Рейс успешно добавлен в базу данных.\n",
      "Рейс успешно добавлен в базу данных.\n",
      "Рейс успешно добавлен в базу данных.\n"
     ]
    },
    {
     "name": "stderr",
     "output_type": "stream",
     "text": [
      "  0%|          | 0/15 [00:00<?, ?it/s]"
     ]
    },
    {
     "name": "stdout",
     "output_type": "stream",
     "text": [
      "Такая запись уже существует!\n",
      "Такая запись уже существует!\n",
      "Такая запись уже существует!\n",
      "Такая запись уже существует!\n",
      "Такая запись уже существует!\n",
      "Такая запись уже существует!\n",
      "Такая запись уже существует!\n",
      "Такая запись уже существует!\n",
      "Такая запись уже существует!\n",
      "Такая запись уже существует!\n",
      "Такая запись уже существует!\n",
      "Такая запись уже существует!\n",
      "Такая запись уже существует!\n",
      "Такая запись уже существует!\n",
      "Такая запись уже существует!\n"
     ]
    },
    {
     "name": "stderr",
     "output_type": "stream",
     "text": [
      "100%|██████████| 15/15 [00:00<00:00, 291.96it/s]\n"
     ]
    }
   ],
   "source": [
    "pars.add_tickets_into_db(tick)"
   ]
  },
  {
   "cell_type": "code",
   "execution_count": null,
   "metadata": {},
   "outputs": [],
   "source": []
  }
 ],
 "metadata": {
  "kernelspec": {
   "display_name": ".venv",
   "language": "python",
   "name": "python3"
  },
  "language_info": {
   "codemirror_mode": {
    "name": "ipython",
    "version": 3
   },
   "file_extension": ".py",
   "mimetype": "text/x-python",
   "name": "python",
   "nbconvert_exporter": "python",
   "pygments_lexer": "ipython3",
   "version": "3.10.5"
  },
  "orig_nbformat": 4
 },
 "nbformat": 4,
 "nbformat_minor": 2
}
