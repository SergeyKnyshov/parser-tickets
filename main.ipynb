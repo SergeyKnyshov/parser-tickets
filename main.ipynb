{
 "cells": [
  {
   "cell_type": "code",
   "execution_count": 10,
   "metadata": {},
   "outputs": [
    {
     "ename": "ModuleNotFoundError",
     "evalue": "No module named 'parent_crawl'",
     "output_type": "error",
     "traceback": [
      "\u001b[1;31m---------------------------------------------------------------------------\u001b[0m",
      "\u001b[1;31mModuleNotFoundError\u001b[0m                       Traceback (most recent call last)",
      "Cell \u001b[1;32mIn[10], line 2\u001b[0m\n\u001b[0;32m      1\u001b[0m \u001b[39mfrom\u001b[39;00m \u001b[39mcrawler\u001b[39;00m\u001b[39m.\u001b[39;00m\u001b[39mparent_crawl\u001b[39;00m \u001b[39mimport\u001b[39;00m Crawler\n\u001b[1;32m----> 2\u001b[0m \u001b[39mfrom\u001b[39;00m \u001b[39mcrawler\u001b[39;00m\u001b[39m.\u001b[39;00m\u001b[39mcrawl_aviasales\u001b[39;00m \u001b[39mimport\u001b[39;00m CrawlerAviaSales\n\u001b[0;32m      3\u001b[0m \u001b[39mfrom\u001b[39;00m \u001b[39mcrawler\u001b[39;00m\u001b[39m.\u001b[39;00m\u001b[39mcrawl_railway\u001b[39;00m \u001b[39mimport\u001b[39;00m CrawlerRailway\n\u001b[0;32m      4\u001b[0m \u001b[39mfrom\u001b[39;00m \u001b[39mDatabase\u001b[39;00m\u001b[39m.\u001b[39;00m\u001b[39mdbase\u001b[39;00m \u001b[39mimport\u001b[39;00m \u001b[39m*\u001b[39m\n",
      "File \u001b[1;32mc:\\Users\\Sergey\\Documents\\GitHub\\parser-tickets\\crawler\\crawl_aviasales.py:1\u001b[0m\n\u001b[1;32m----> 1\u001b[0m \u001b[39mfrom\u001b[39;00m \u001b[39mparent_crawl\u001b[39;00m \u001b[39mimport\u001b[39;00m Crawler\n\u001b[0;32m      2\u001b[0m \u001b[39mimport\u001b[39;00m \u001b[39mselenium\u001b[39;00m\n\u001b[0;32m      3\u001b[0m \u001b[39mfrom\u001b[39;00m \u001b[39mselenium\u001b[39;00m \u001b[39mimport\u001b[39;00m webdriver\n",
      "\u001b[1;31mModuleNotFoundError\u001b[0m: No module named 'parent_crawl'"
     ]
    }
   ],
   "source": [
    "from crawler.parent_crawl import Crawler\n",
    "from crawler.crawl_aviasales import CrawlerAviaSales\n",
    "from crawler.crawl_railway import CrawlerRailway\n",
    "from Database.dbase import *\n",
    "from Database.dbhelp import DBhelper\n",
    "\n",
    "from parser.parent_pars import Parser\n",
    "from parser.pars_aviasales import ParserAviaSales\n",
    "from parser.pars_railway import ParserRailway\n",
    "from parser.pars_controller import ParserController\n",
    "\n"
   ]
  },
  {
   "cell_type": "code",
   "execution_count": 11,
   "metadata": {},
   "outputs": [
    {
     "ename": "TypeError",
     "evalue": "Crawler.__init__() missing 3 required positional arguments: 'departure_city', 'destination_city', and 'date'",
     "output_type": "error",
     "traceback": [
      "\u001b[1;31m---------------------------------------------------------------------------\u001b[0m",
      "\u001b[1;31mTypeError\u001b[0m                                 Traceback (most recent call last)",
      "Cell \u001b[1;32mIn[11], line 1\u001b[0m\n\u001b[1;32m----> 1\u001b[0m a \u001b[39m=\u001b[39m Crawler()\n\u001b[0;32m      2\u001b[0m cr_avia \u001b[39m=\u001b[39m CrawlerAviaSales()\n",
      "\u001b[1;31mTypeError\u001b[0m: Crawler.__init__() missing 3 required positional arguments: 'departure_city', 'destination_city', and 'date'"
     ]
    }
   ],
   "source": [
    "a = Crawler()\n",
    "cr_avia = CrawlerAviaSales()"
   ]
  }
 ],
 "metadata": {
  "kernelspec": {
   "display_name": ".venv",
   "language": "python",
   "name": "python3"
  },
  "language_info": {
   "codemirror_mode": {
    "name": "ipython",
    "version": 3
   },
   "file_extension": ".py",
   "mimetype": "text/x-python",
   "name": "python",
   "nbconvert_exporter": "python",
   "pygments_lexer": "ipython3",
   "version": "3.10.5"
  },
  "orig_nbformat": 4
 },
 "nbformat": 4,
 "nbformat_minor": 2
}
