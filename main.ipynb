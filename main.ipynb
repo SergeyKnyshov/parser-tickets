{
 "cells": [
  {
   "cell_type": "code",
   "execution_count": 1,
   "metadata": {},
   "outputs": [],
   "source": [
    "from analytics.analytic import AnalyticsController"
   ]
  },
  {
   "cell_type": "code",
   "execution_count": 2,
   "metadata": {},
   "outputs": [],
   "source": [
    "zapros = [('Челябинск', '17.06'), [('Волгоград', '18.06'), ('Краснодар', '17.06'), ('Сочи', '19.06')], [('Иркутск', '20.06'), ('Калининград', '21.06',), ('Владивосток', '21.06')],  ('Москва', '')]\n",
    "rezhim = 'price'"
   ]
  },
  {
   "cell_type": "code",
   "execution_count": 3,
   "metadata": {},
   "outputs": [],
   "source": [
    "a = AnalyticsController(zapros, rezhim)"
   ]
  },
  {
   "cell_type": "code",
   "execution_count": 4,
   "metadata": {},
   "outputs": [
    {
     "name": "stdout",
     "output_type": "stream",
     "text": [
      "Маршрут Челябинск-Волгоград уже присутствует в базе данных!\n",
      "Маршрут Челябинск-Краснодар уже присутствует в базе данных!\n",
      "Маршрут Челябинск-Сочи уже присутствует в базе данных!\n",
      "Маршрут Волгоград-Иркутск уже присутствует в базе данных!\n",
      "Маршрут Волгоград-Калининград уже присутствует в базе данных!\n",
      "Маршрут Волгоград-Владивосток уже присутствует в базе данных!\n",
      "Отсутствует маршрут Краснодар-Иркутск на aviasales\n",
      "Отсутствует маршрут Краснодар-Иркутск на РЖД\n"
     ]
    },
    {
     "ename": "ValueError",
     "evalue": "min() arg is an empty sequence",
     "output_type": "error",
     "traceback": [
      "\u001b[1;31m---------------------------------------------------------------------------\u001b[0m",
      "\u001b[1;31mValueError\u001b[0m                                Traceback (most recent call last)",
      "Cell \u001b[1;32mIn[4], line 1\u001b[0m\n\u001b[1;32m----> 1\u001b[0m a\u001b[39m.\u001b[39;49mbuild_full_route()\n",
      "File \u001b[1;32mc:\\Users\\Soerega\\Documents\\GitHub\\parser-tickets\\analytics\\analytic.py:34\u001b[0m, in \u001b[0;36mAnalyticsController.build_full_route\u001b[1;34m(self)\u001b[0m\n\u001b[0;32m     31\u001b[0m             des_city \u001b[39m=\u001b[39m sec_lst_el[\u001b[39m0\u001b[39m]\n\u001b[0;32m     32\u001b[0m             dep_date \u001b[39m=\u001b[39m fst_lst_el[\u001b[39m1\u001b[39m]\n\u001b[1;32m---> 34\u001b[0m             \u001b[39mself\u001b[39;49m\u001b[39m.\u001b[39;49mbuild_route_edge(dep_city, des_city, dep_date)\n\u001b[0;32m     37\u001b[0m \u001b[39melif\u001b[39;00m \u001b[39mtype\u001b[39m(lst[i]) \u001b[39mis\u001b[39;00m \u001b[39mlist\u001b[39m \u001b[39mand\u001b[39;00m lst[i\u001b[39m+\u001b[39m\u001b[39m1\u001b[39m] \u001b[39m==\u001b[39m lst[\u001b[39m-\u001b[39m\u001b[39m1\u001b[39m]:\n\u001b[0;32m     38\u001b[0m     \u001b[39mfor\u001b[39;00m el \u001b[39min\u001b[39;00m lst[i]:\n",
      "File \u001b[1;32mc:\\Users\\Soerega\\Documents\\GitHub\\parser-tickets\\analytics\\analytic.py:56\u001b[0m, in \u001b[0;36mAnalyticsController.build_route_edge\u001b[1;34m(self, depart_city, destin_city, date)\u001b[0m\n\u001b[0;32m     53\u001b[0m \u001b[39mif\u001b[39;00m \u001b[39mnot\u001b[39;00m route_tickets:  \u001b[39m## Если есть в базе данных\u001b[39;00m\n\u001b[0;32m     54\u001b[0m     route_tickets \u001b[39m=\u001b[39m route\u001b[39m.\u001b[39mget_tickets_from_db(depart_city, destin_city)\n\u001b[1;32m---> 56\u001b[0m route_ticket \u001b[39m=\u001b[39m \u001b[39mself\u001b[39;49m\u001b[39m.\u001b[39;49m__get_right_route(route_tickets)\n\u001b[0;32m     57\u001b[0m coords \u001b[39m=\u001b[39m \u001b[39mself\u001b[39m\u001b[39m.\u001b[39m__unpack_dict_to_coords(route_ticket)\n\u001b[0;32m     58\u001b[0m \u001b[39mself\u001b[39m\u001b[39m.\u001b[39mmap\u001b[39m.\u001b[39madd_way(coords[\u001b[39m0\u001b[39m], coords[\u001b[39m1\u001b[39m], route_ticket)\n",
      "File \u001b[1;32mc:\\Users\\Soerega\\Documents\\GitHub\\parser-tickets\\analytics\\analytic.py:70\u001b[0m, in \u001b[0;36mAnalyticsController.__get_right_route\u001b[1;34m(self, lst_of_tickets)\u001b[0m\n\u001b[0;32m     68\u001b[0m \u001b[39mdef\u001b[39;00m \u001b[39m__get_right_route\u001b[39m(\u001b[39mself\u001b[39m, lst_of_tickets):\n\u001b[0;32m     69\u001b[0m     \u001b[39mif\u001b[39;00m \u001b[39mself\u001b[39m\u001b[39m.\u001b[39mturn \u001b[39m==\u001b[39m \u001b[39m'\u001b[39m\u001b[39mprice\u001b[39m\u001b[39m'\u001b[39m:\n\u001b[1;32m---> 70\u001b[0m         res \u001b[39m=\u001b[39m \u001b[39mself\u001b[39;49m\u001b[39m.\u001b[39;49m__get_min_price(lst_of_tickets)\n\u001b[0;32m     71\u001b[0m     \u001b[39melif\u001b[39;00m \u001b[39mself\u001b[39m\u001b[39m.\u001b[39mturn \u001b[39m==\u001b[39m \u001b[39m'\u001b[39m\u001b[39mtime\u001b[39m\u001b[39m'\u001b[39m:\n\u001b[0;32m     72\u001b[0m         res \u001b[39m=\u001b[39m \u001b[39mself\u001b[39m\u001b[39m.\u001b[39m__get_min_time(lst_of_tickets)\n",
      "File \u001b[1;32mc:\\Users\\Soerega\\Documents\\GitHub\\parser-tickets\\analytics\\analytic.py:92\u001b[0m, in \u001b[0;36mAnalyticsController.__get_min_price\u001b[1;34m(self, lst)\u001b[0m\n\u001b[0;32m     90\u001b[0m \u001b[39mfor\u001b[39;00m el \u001b[39min\u001b[39;00m lst:\n\u001b[0;32m     91\u001b[0m     lst_of_min_price\u001b[39m.\u001b[39mappend(\u001b[39mint\u001b[39m(el[\u001b[39m'\u001b[39m\u001b[39mprice\u001b[39m\u001b[39m'\u001b[39m]))\n\u001b[1;32m---> 92\u001b[0m min_price \u001b[39m=\u001b[39m \u001b[39mmin\u001b[39;49m(lst_of_min_price)\n\u001b[0;32m     93\u001b[0m \u001b[39mfor\u001b[39;00m el \u001b[39min\u001b[39;00m lst:\n\u001b[0;32m     94\u001b[0m     \u001b[39mif\u001b[39;00m \u001b[39mint\u001b[39m(el[\u001b[39m'\u001b[39m\u001b[39mprice\u001b[39m\u001b[39m'\u001b[39m]) \u001b[39m==\u001b[39m min_price:\n",
      "\u001b[1;31mValueError\u001b[0m: min() arg is an empty sequence"
     ]
    }
   ],
   "source": [
    "a.build_full_route()"
   ]
  },
  {
   "cell_type": "code",
   "execution_count": null,
   "metadata": {},
   "outputs": [
    {
     "data": {
      "application/vnd.plotly.v1+json": {
       "config": {
        "plotlyServerURL": "https://plot.ly"
       },
       "data": [
        {
         "type": "scattermapbox"
        },
        {
         "hoverinfo": "text+name",
         "hovertext": "Рейс:Челябинск-Волгоград<br>Стоимость:5258<br>Продолжительность:1 day, 11:05:00",
         "lat": [
          55.16012573,
          48.70959091
         ],
         "line": {
          "color": "tomato",
          "width": 2
         },
         "lon": [
          61.39356613,
          44.5141716
         ],
         "marker": {
          "size": 20
         },
         "mode": "markers+lines",
         "name": "Челябинск-Волгоград",
         "textposition": "middle center",
         "type": "scattermapbox"
        },
        {
         "hoverinfo": "text+name",
         "hovertext": "Рейс:Челябинск-Сочи<br>Стоимость:15199<br>Продолжительность:2:00:00",
         "lat": [
          55.16012573,
          43.58471298
         ],
         "line": {
          "color": "steelblue",
          "width": 2
         },
         "lon": [
          61.39356613,
          39.71861267
         ],
         "marker": {
          "size": 20
         },
         "mode": "markers+lines",
         "name": "Челябинск-Сочи",
         "textposition": "middle center",
         "type": "scattermapbox"
        },
        {
         "hoverinfo": "text+name",
         "hovertext": "Рейс:Волгоград-Иркутск<br>Стоимость:21570<br>Продолжительность:12:50:00",
         "lat": [
          48.70959091,
          52.29074097
         ],
         "line": {
          "color": "steelblue",
          "width": 2
         },
         "lon": [
          44.5141716,
          104.27861786
         ],
         "marker": {
          "size": 20
         },
         "mode": "markers+lines",
         "name": "Волгоград-Иркутск",
         "textposition": "middle center",
         "type": "scattermapbox"
        },
        {
         "hoverinfo": "text+name",
         "hovertext": "Рейс:Волгоград-Калининград<br>Стоимость:12814<br>Продолжительность:20:55:00",
         "lat": [
          48.70959091,
          54.71809006
         ],
         "line": {
          "color": "steelblue",
          "width": 2
         },
         "lon": [
          44.5141716,
          20.49717903
         ],
         "marker": {
          "size": 20
         },
         "mode": "markers+lines",
         "name": "Волгоград-Калининград",
         "textposition": "middle center",
         "type": "scattermapbox"
        },
        {
         "hoverinfo": "text+name",
         "hovertext": "Рейс:Волгоград-Владивосток<br>Стоимость:25183<br>Продолжительность:1 day, 8:15:00",
         "lat": [
          48.70959091,
          43.1157608
         ],
         "line": {
          "color": "steelblue",
          "width": 2
         },
         "lon": [
          44.5141716,
          131.88548279
         ],
         "marker": {
          "size": 20
         },
         "mode": "markers+lines",
         "name": "Волгоград-Владивосток",
         "textposition": "middle center",
         "type": "scattermapbox"
        },
        {
         "hoverinfo": "text+name",
         "hovertext": "Рейс:Сочи-Иркутск<br>Стоимость:9499<br>Продолжительность:11:25:00",
         "lat": [
          43.58471298,
          52.29074097
         ],
         "line": {
          "color": "steelblue",
          "width": 2
         },
         "lon": [
          39.71861267,
          104.27861786
         ],
         "marker": {
          "size": 20
         },
         "mode": "markers+lines",
         "name": "Сочи-Иркутск",
         "textposition": "middle center",
         "type": "scattermapbox"
        },
        {
         "hoverinfo": "text+name",
         "hovertext": "Рейс:Сочи-Калининград<br>Стоимость:7525<br>Продолжительность:20:05:00",
         "lat": [
          43.58471298,
          54.71809006
         ],
         "line": {
          "color": "steelblue",
          "width": 2
         },
         "lon": [
          39.71861267,
          20.49717903
         ],
         "marker": {
          "size": 20
         },
         "mode": "markers+lines",
         "name": "Сочи-Калининград",
         "textposition": "middle center",
         "type": "scattermapbox"
        },
        {
         "hoverinfo": "text+name",
         "hovertext": "Рейс:Сочи-Владивосток<br>Стоимость:26683<br>Продолжительность:19:45:00",
         "lat": [
          43.58471298,
          43.1157608
         ],
         "line": {
          "color": "steelblue",
          "width": 2
         },
         "lon": [
          39.71861267,
          131.88548279
         ],
         "marker": {
          "size": 20
         },
         "mode": "markers+lines",
         "name": "Сочи-Владивосток",
         "textposition": "middle center",
         "type": "scattermapbox"
        },
        {
         "hoverinfo": "text+name",
         "hovertext": "Рейс:Иркутск-Москва<br>Стоимость:9571<br>Продолжительность:10:35:00",
         "lat": [
          52.29074097,
          55.75654221
         ],
         "line": {
          "color": "steelblue",
          "width": 2
         },
         "lon": [
          104.27861786,
          37.61492157
         ],
         "marker": {
          "size": 20
         },
         "mode": "markers+lines",
         "name": "Иркутск-Москва",
         "textposition": "middle center",
         "type": "scattermapbox"
        },
        {
         "hoverinfo": "text+name",
         "hovertext": "Рейс:Калининград-Москва<br>Стоимость:5223<br>Продолжительность:3:30:00",
         "lat": [
          54.71809006,
          55.75654221
         ],
         "line": {
          "color": "steelblue",
          "width": 2
         },
         "lon": [
          20.49717903,
          37.61492157
         ],
         "marker": {
          "size": 20
         },
         "mode": "markers+lines",
         "name": "Калининград-Москва",
         "textposition": "middle center",
         "type": "scattermapbox"
        },
        {
         "hoverinfo": "text+name",
         "hovertext": "Рейс:Владивосток-Москва<br>Стоимость:15541<br>Продолжительность:1:50:00",
         "lat": [
          43.1157608,
          55.75654221
         ],
         "line": {
          "color": "steelblue",
          "width": 2
         },
         "lon": [
          131.88548279,
          37.61492157
         ],
         "marker": {
          "size": 20
         },
         "mode": "markers+lines",
         "name": "Владивосток-Москва",
         "textposition": "middle center",
         "type": "scattermapbox"
        }
       ],
       "layout": {
        "mapbox": {
         "center": {
          "lat": 60,
          "lon": 60
         },
         "style": "stamen-terrain",
         "zoom": 2
        },
        "margin": {
         "b": 0,
         "l": 0,
         "r": 0,
         "t": 0
        },
        "template": {
         "data": {
          "bar": [
           {
            "error_x": {
             "color": "#2a3f5f"
            },
            "error_y": {
             "color": "#2a3f5f"
            },
            "marker": {
             "line": {
              "color": "#E5ECF6",
              "width": 0.5
             },
             "pattern": {
              "fillmode": "overlay",
              "size": 10,
              "solidity": 0.2
             }
            },
            "type": "bar"
           }
          ],
          "barpolar": [
           {
            "marker": {
             "line": {
              "color": "#E5ECF6",
              "width": 0.5
             },
             "pattern": {
              "fillmode": "overlay",
              "size": 10,
              "solidity": 0.2
             }
            },
            "type": "barpolar"
           }
          ],
          "carpet": [
           {
            "aaxis": {
             "endlinecolor": "#2a3f5f",
             "gridcolor": "white",
             "linecolor": "white",
             "minorgridcolor": "white",
             "startlinecolor": "#2a3f5f"
            },
            "baxis": {
             "endlinecolor": "#2a3f5f",
             "gridcolor": "white",
             "linecolor": "white",
             "minorgridcolor": "white",
             "startlinecolor": "#2a3f5f"
            },
            "type": "carpet"
           }
          ],
          "choropleth": [
           {
            "colorbar": {
             "outlinewidth": 0,
             "ticks": ""
            },
            "type": "choropleth"
           }
          ],
          "contour": [
           {
            "colorbar": {
             "outlinewidth": 0,
             "ticks": ""
            },
            "colorscale": [
             [
              0,
              "#0d0887"
             ],
             [
              0.1111111111111111,
              "#46039f"
             ],
             [
              0.2222222222222222,
              "#7201a8"
             ],
             [
              0.3333333333333333,
              "#9c179e"
             ],
             [
              0.4444444444444444,
              "#bd3786"
             ],
             [
              0.5555555555555556,
              "#d8576b"
             ],
             [
              0.6666666666666666,
              "#ed7953"
             ],
             [
              0.7777777777777778,
              "#fb9f3a"
             ],
             [
              0.8888888888888888,
              "#fdca26"
             ],
             [
              1,
              "#f0f921"
             ]
            ],
            "type": "contour"
           }
          ],
          "contourcarpet": [
           {
            "colorbar": {
             "outlinewidth": 0,
             "ticks": ""
            },
            "type": "contourcarpet"
           }
          ],
          "heatmap": [
           {
            "colorbar": {
             "outlinewidth": 0,
             "ticks": ""
            },
            "colorscale": [
             [
              0,
              "#0d0887"
             ],
             [
              0.1111111111111111,
              "#46039f"
             ],
             [
              0.2222222222222222,
              "#7201a8"
             ],
             [
              0.3333333333333333,
              "#9c179e"
             ],
             [
              0.4444444444444444,
              "#bd3786"
             ],
             [
              0.5555555555555556,
              "#d8576b"
             ],
             [
              0.6666666666666666,
              "#ed7953"
             ],
             [
              0.7777777777777778,
              "#fb9f3a"
             ],
             [
              0.8888888888888888,
              "#fdca26"
             ],
             [
              1,
              "#f0f921"
             ]
            ],
            "type": "heatmap"
           }
          ],
          "heatmapgl": [
           {
            "colorbar": {
             "outlinewidth": 0,
             "ticks": ""
            },
            "colorscale": [
             [
              0,
              "#0d0887"
             ],
             [
              0.1111111111111111,
              "#46039f"
             ],
             [
              0.2222222222222222,
              "#7201a8"
             ],
             [
              0.3333333333333333,
              "#9c179e"
             ],
             [
              0.4444444444444444,
              "#bd3786"
             ],
             [
              0.5555555555555556,
              "#d8576b"
             ],
             [
              0.6666666666666666,
              "#ed7953"
             ],
             [
              0.7777777777777778,
              "#fb9f3a"
             ],
             [
              0.8888888888888888,
              "#fdca26"
             ],
             [
              1,
              "#f0f921"
             ]
            ],
            "type": "heatmapgl"
           }
          ],
          "histogram": [
           {
            "marker": {
             "pattern": {
              "fillmode": "overlay",
              "size": 10,
              "solidity": 0.2
             }
            },
            "type": "histogram"
           }
          ],
          "histogram2d": [
           {
            "colorbar": {
             "outlinewidth": 0,
             "ticks": ""
            },
            "colorscale": [
             [
              0,
              "#0d0887"
             ],
             [
              0.1111111111111111,
              "#46039f"
             ],
             [
              0.2222222222222222,
              "#7201a8"
             ],
             [
              0.3333333333333333,
              "#9c179e"
             ],
             [
              0.4444444444444444,
              "#bd3786"
             ],
             [
              0.5555555555555556,
              "#d8576b"
             ],
             [
              0.6666666666666666,
              "#ed7953"
             ],
             [
              0.7777777777777778,
              "#fb9f3a"
             ],
             [
              0.8888888888888888,
              "#fdca26"
             ],
             [
              1,
              "#f0f921"
             ]
            ],
            "type": "histogram2d"
           }
          ],
          "histogram2dcontour": [
           {
            "colorbar": {
             "outlinewidth": 0,
             "ticks": ""
            },
            "colorscale": [
             [
              0,
              "#0d0887"
             ],
             [
              0.1111111111111111,
              "#46039f"
             ],
             [
              0.2222222222222222,
              "#7201a8"
             ],
             [
              0.3333333333333333,
              "#9c179e"
             ],
             [
              0.4444444444444444,
              "#bd3786"
             ],
             [
              0.5555555555555556,
              "#d8576b"
             ],
             [
              0.6666666666666666,
              "#ed7953"
             ],
             [
              0.7777777777777778,
              "#fb9f3a"
             ],
             [
              0.8888888888888888,
              "#fdca26"
             ],
             [
              1,
              "#f0f921"
             ]
            ],
            "type": "histogram2dcontour"
           }
          ],
          "mesh3d": [
           {
            "colorbar": {
             "outlinewidth": 0,
             "ticks": ""
            },
            "type": "mesh3d"
           }
          ],
          "parcoords": [
           {
            "line": {
             "colorbar": {
              "outlinewidth": 0,
              "ticks": ""
             }
            },
            "type": "parcoords"
           }
          ],
          "pie": [
           {
            "automargin": true,
            "type": "pie"
           }
          ],
          "scatter": [
           {
            "fillpattern": {
             "fillmode": "overlay",
             "size": 10,
             "solidity": 0.2
            },
            "type": "scatter"
           }
          ],
          "scatter3d": [
           {
            "line": {
             "colorbar": {
              "outlinewidth": 0,
              "ticks": ""
             }
            },
            "marker": {
             "colorbar": {
              "outlinewidth": 0,
              "ticks": ""
             }
            },
            "type": "scatter3d"
           }
          ],
          "scattercarpet": [
           {
            "marker": {
             "colorbar": {
              "outlinewidth": 0,
              "ticks": ""
             }
            },
            "type": "scattercarpet"
           }
          ],
          "scattergeo": [
           {
            "marker": {
             "colorbar": {
              "outlinewidth": 0,
              "ticks": ""
             }
            },
            "type": "scattergeo"
           }
          ],
          "scattergl": [
           {
            "marker": {
             "colorbar": {
              "outlinewidth": 0,
              "ticks": ""
             }
            },
            "type": "scattergl"
           }
          ],
          "scattermapbox": [
           {
            "marker": {
             "colorbar": {
              "outlinewidth": 0,
              "ticks": ""
             }
            },
            "type": "scattermapbox"
           }
          ],
          "scatterpolar": [
           {
            "marker": {
             "colorbar": {
              "outlinewidth": 0,
              "ticks": ""
             }
            },
            "type": "scatterpolar"
           }
          ],
          "scatterpolargl": [
           {
            "marker": {
             "colorbar": {
              "outlinewidth": 0,
              "ticks": ""
             }
            },
            "type": "scatterpolargl"
           }
          ],
          "scatterternary": [
           {
            "marker": {
             "colorbar": {
              "outlinewidth": 0,
              "ticks": ""
             }
            },
            "type": "scatterternary"
           }
          ],
          "surface": [
           {
            "colorbar": {
             "outlinewidth": 0,
             "ticks": ""
            },
            "colorscale": [
             [
              0,
              "#0d0887"
             ],
             [
              0.1111111111111111,
              "#46039f"
             ],
             [
              0.2222222222222222,
              "#7201a8"
             ],
             [
              0.3333333333333333,
              "#9c179e"
             ],
             [
              0.4444444444444444,
              "#bd3786"
             ],
             [
              0.5555555555555556,
              "#d8576b"
             ],
             [
              0.6666666666666666,
              "#ed7953"
             ],
             [
              0.7777777777777778,
              "#fb9f3a"
             ],
             [
              0.8888888888888888,
              "#fdca26"
             ],
             [
              1,
              "#f0f921"
             ]
            ],
            "type": "surface"
           }
          ],
          "table": [
           {
            "cells": {
             "fill": {
              "color": "#EBF0F8"
             },
             "line": {
              "color": "white"
             }
            },
            "header": {
             "fill": {
              "color": "#C8D4E3"
             },
             "line": {
              "color": "white"
             }
            },
            "type": "table"
           }
          ]
         },
         "layout": {
          "annotationdefaults": {
           "arrowcolor": "#2a3f5f",
           "arrowhead": 0,
           "arrowwidth": 1
          },
          "autotypenumbers": "strict",
          "coloraxis": {
           "colorbar": {
            "outlinewidth": 0,
            "ticks": ""
           }
          },
          "colorscale": {
           "diverging": [
            [
             0,
             "#8e0152"
            ],
            [
             0.1,
             "#c51b7d"
            ],
            [
             0.2,
             "#de77ae"
            ],
            [
             0.3,
             "#f1b6da"
            ],
            [
             0.4,
             "#fde0ef"
            ],
            [
             0.5,
             "#f7f7f7"
            ],
            [
             0.6,
             "#e6f5d0"
            ],
            [
             0.7,
             "#b8e186"
            ],
            [
             0.8,
             "#7fbc41"
            ],
            [
             0.9,
             "#4d9221"
            ],
            [
             1,
             "#276419"
            ]
           ],
           "sequential": [
            [
             0,
             "#0d0887"
            ],
            [
             0.1111111111111111,
             "#46039f"
            ],
            [
             0.2222222222222222,
             "#7201a8"
            ],
            [
             0.3333333333333333,
             "#9c179e"
            ],
            [
             0.4444444444444444,
             "#bd3786"
            ],
            [
             0.5555555555555556,
             "#d8576b"
            ],
            [
             0.6666666666666666,
             "#ed7953"
            ],
            [
             0.7777777777777778,
             "#fb9f3a"
            ],
            [
             0.8888888888888888,
             "#fdca26"
            ],
            [
             1,
             "#f0f921"
            ]
           ],
           "sequentialminus": [
            [
             0,
             "#0d0887"
            ],
            [
             0.1111111111111111,
             "#46039f"
            ],
            [
             0.2222222222222222,
             "#7201a8"
            ],
            [
             0.3333333333333333,
             "#9c179e"
            ],
            [
             0.4444444444444444,
             "#bd3786"
            ],
            [
             0.5555555555555556,
             "#d8576b"
            ],
            [
             0.6666666666666666,
             "#ed7953"
            ],
            [
             0.7777777777777778,
             "#fb9f3a"
            ],
            [
             0.8888888888888888,
             "#fdca26"
            ],
            [
             1,
             "#f0f921"
            ]
           ]
          },
          "colorway": [
           "#636efa",
           "#EF553B",
           "#00cc96",
           "#ab63fa",
           "#FFA15A",
           "#19d3f3",
           "#FF6692",
           "#B6E880",
           "#FF97FF",
           "#FECB52"
          ],
          "font": {
           "color": "#2a3f5f"
          },
          "geo": {
           "bgcolor": "white",
           "lakecolor": "white",
           "landcolor": "#E5ECF6",
           "showlakes": true,
           "showland": true,
           "subunitcolor": "white"
          },
          "hoverlabel": {
           "align": "left"
          },
          "hovermode": "closest",
          "mapbox": {
           "style": "light"
          },
          "paper_bgcolor": "white",
          "plot_bgcolor": "#E5ECF6",
          "polar": {
           "angularaxis": {
            "gridcolor": "white",
            "linecolor": "white",
            "ticks": ""
           },
           "bgcolor": "#E5ECF6",
           "radialaxis": {
            "gridcolor": "white",
            "linecolor": "white",
            "ticks": ""
           }
          },
          "scene": {
           "xaxis": {
            "backgroundcolor": "#E5ECF6",
            "gridcolor": "white",
            "gridwidth": 2,
            "linecolor": "white",
            "showbackground": true,
            "ticks": "",
            "zerolinecolor": "white"
           },
           "yaxis": {
            "backgroundcolor": "#E5ECF6",
            "gridcolor": "white",
            "gridwidth": 2,
            "linecolor": "white",
            "showbackground": true,
            "ticks": "",
            "zerolinecolor": "white"
           },
           "zaxis": {
            "backgroundcolor": "#E5ECF6",
            "gridcolor": "white",
            "gridwidth": 2,
            "linecolor": "white",
            "showbackground": true,
            "ticks": "",
            "zerolinecolor": "white"
           }
          },
          "shapedefaults": {
           "line": {
            "color": "#2a3f5f"
           }
          },
          "ternary": {
           "aaxis": {
            "gridcolor": "white",
            "linecolor": "white",
            "ticks": ""
           },
           "baxis": {
            "gridcolor": "white",
            "linecolor": "white",
            "ticks": ""
           },
           "bgcolor": "#E5ECF6",
           "caxis": {
            "gridcolor": "white",
            "linecolor": "white",
            "ticks": ""
           }
          },
          "title": {
           "x": 0.05
          },
          "xaxis": {
           "automargin": true,
           "gridcolor": "white",
           "linecolor": "white",
           "ticks": "",
           "title": {
            "standoff": 15
           },
           "zerolinecolor": "white",
           "zerolinewidth": 2
          },
          "yaxis": {
           "automargin": true,
           "gridcolor": "white",
           "linecolor": "white",
           "ticks": "",
           "title": {
            "standoff": 15
           },
           "zerolinecolor": "white",
           "zerolinewidth": 2
          }
         }
        }
       }
      }
     },
     "metadata": {},
     "output_type": "display_data"
    }
   ],
   "source": [
    "a.map.show_map()"
   ]
  },
  {
   "cell_type": "code",
   "execution_count": null,
   "metadata": {},
   "outputs": [],
   "source": []
  }
 ],
 "metadata": {
  "kernelspec": {
   "display_name": ".venv",
   "language": "python",
   "name": "python3"
  },
  "language_info": {
   "codemirror_mode": {
    "name": "ipython",
    "version": 3
   },
   "file_extension": ".py",
   "mimetype": "text/x-python",
   "name": "python",
   "nbconvert_exporter": "python",
   "pygments_lexer": "ipython3",
   "version": "3.11.2"
  },
  "orig_nbformat": 4
 },
 "nbformat": 4,
 "nbformat_minor": 2
}
