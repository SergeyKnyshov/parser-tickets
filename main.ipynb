{
 "cells": [
  {
   "cell_type": "code",
   "execution_count": 48,
   "metadata": {},
   "outputs": [],
   "source": [
    "from parser.pars_controller import ParserController"
   ]
  },
  {
   "cell_type": "code",
   "execution_count": 50,
   "metadata": {},
   "outputs": [],
   "source": [
    "cr_avia = CrawlerAviaSales('CEK', 'MOW', '13.06')\n",
    "cr_rail = CrawlerRailway('chelyabinsk', 'moskva', '13.06')"
   ]
  },
  {
   "cell_type": "code",
   "execution_count": 51,
   "metadata": {},
   "outputs": [
    {
     "ename": "ImportError",
     "evalue": "cannot import name 'ParserController' from 'parser.pars_controller' (c:\\Users\\Sergey\\Documents\\GitHub\\parser-tickets\\parser\\pars_controller.py)",
     "output_type": "error",
     "traceback": [
      "\u001b[1;31m---------------------------------------------------------------------------\u001b[0m",
      "\u001b[1;31mImportError\u001b[0m                               Traceback (most recent call last)",
      "Cell \u001b[1;32mIn[51], line 1\u001b[0m\n\u001b[1;32m----> 1\u001b[0m \u001b[39mfrom\u001b[39;00m \u001b[39mparser\u001b[39;00m\u001b[39m.\u001b[39;00m\u001b[39mpars_controller\u001b[39;00m \u001b[39mimport\u001b[39;00m ParserController\n",
      "\u001b[1;31mImportError\u001b[0m: cannot import name 'ParserController' from 'parser.pars_controller' (c:\\Users\\Sergey\\Documents\\GitHub\\parser-tickets\\parser\\pars_controller.py)"
     ]
    }
   ],
   "source": [
    "from parser.pars_controller import ParserController"
   ]
  },
  {
   "cell_type": "code",
   "execution_count": null,
   "metadata": {},
   "outputs": [],
   "source": []
  }
 ],
 "metadata": {
  "kernelspec": {
   "display_name": ".venv",
   "language": "python",
   "name": "python3"
  },
  "language_info": {
   "codemirror_mode": {
    "name": "ipython",
    "version": 3
   },
   "file_extension": ".py",
   "mimetype": "text/x-python",
   "name": "python",
   "nbconvert_exporter": "python",
   "pygments_lexer": "ipython3",
   "version": "3.10.5"
  },
  "orig_nbformat": 4
 },
 "nbformat": 4,
 "nbformat_minor": 2
}
