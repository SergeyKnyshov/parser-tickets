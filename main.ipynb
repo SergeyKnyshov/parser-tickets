{
 "cells": [
  {
   "cell_type": "code",
   "execution_count": 1,
   "metadata": {},
   "outputs": [],
   "source": [
    "from parser.pars_controller import ParserController"
   ]
  },
  {
   "cell_type": "code",
   "execution_count": 2,
   "metadata": {},
   "outputs": [],
   "source": [
    "pars = ParserController('Челябинск', 'Сочи', '16.06')"
   ]
  },
  {
   "cell_type": "code",
   "execution_count": 3,
   "metadata": {},
   "outputs": [
    {
     "name": "stderr",
     "output_type": "stream",
     "text": [
      "100%|██████████| 10/10 [00:00<00:00, 178.56it/s]\n",
      "100%|██████████| 5/5 [00:00<00:00, 277.86it/s]\n",
      "100%|██████████| 10/10 [00:00<00:00, 58.01it/s]"
     ]
    },
    {
     "name": "stdout",
     "output_type": "stream",
     "text": [
      "Рейс успешно добавлен в базу данных.\n",
      "Рейс успешно добавлен в базу данных.\n",
      "Рейс успешно добавлен в базу данных.\n",
      "Рейс успешно добавлен в базу данных.\n",
      "Рейс успешно добавлен в базу данных.\n",
      "Рейс успешно добавлен в базу данных.\n",
      "Рейс успешно добавлен в базу данных.\n",
      "Рейс успешно добавлен в базу данных.\n",
      "Рейс успешно добавлен в базу данных.\n",
      "Рейс успешно добавлен в базу данных.\n"
     ]
    },
    {
     "name": "stderr",
     "output_type": "stream",
     "text": [
      "\n"
     ]
    }
   ],
   "source": [
    "tick = pars.get_tickets_from_web()"
   ]
  },
  {
   "cell_type": "code",
   "execution_count": null,
   "metadata": {},
   "outputs": [],
   "source": [
    "pars."
   ]
  }
 ],
 "metadata": {
  "kernelspec": {
   "display_name": ".venv",
   "language": "python",
   "name": "python3"
  },
  "language_info": {
   "codemirror_mode": {
    "name": "ipython",
    "version": 3
   },
   "file_extension": ".py",
   "mimetype": "text/x-python",
   "name": "python",
   "nbconvert_exporter": "python",
   "pygments_lexer": "ipython3",
   "version": "3.10.5"
  },
  "orig_nbformat": 4
 },
 "nbformat": 4,
 "nbformat_minor": 2
}
